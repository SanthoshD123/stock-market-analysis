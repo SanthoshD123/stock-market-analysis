{
  "nbformat": 4,
  "nbformat_minor": 0,
  "metadata": {
    "colab": {
      "provenance": [],
      "authorship_tag": "ABX9TyPcBT0k7PaMWISmNfPW/8on",
      "include_colab_link": true
    },
    "kernelspec": {
      "name": "python3",
      "display_name": "Python 3"
    },
    "language_info": {
      "name": "python"
    }
  },
  "cells": [
    {
      "cell_type": "markdown",
      "metadata": {
        "id": "view-in-github",
        "colab_type": "text"
      },
      "source": [
        "<a href=\"https://colab.research.google.com/github/SanthoshD123/stock-market-analysis/blob/main/Untitled21.ipynb\" target=\"_parent\"><img src=\"https://colab.research.google.com/assets/colab-badge.svg\" alt=\"Open In Colab\"/></a>"
      ]
    },
    {
      "cell_type": "code",
      "execution_count": null,
      "metadata": {
        "id": "5APbySW3WWPx"
      },
      "outputs": [],
      "source": [
        "import math # Mathematical functions\n",
        "import numpy as np # Fundamental package for scientific computing with Python\n",
        "import pandas as pd # For analysing and manipulating data\n",
        "from datetime import date, timedelta # Date Functions\n",
        "from pandas.plotting import register_matplotlib_converters # Adds plotting functions for calender dates\n",
        "import matplotlib.pyplot as plt # For visualization\n",
        "import matplotlib.dates as mdates # Formatting dates\n",
        "from sklearn.metrics import mean_absolute_error, mean_squared_error # For measuring model performance / errors\n",
        "from sklearn.preprocessing import MinMaxScaler #to normalize the price data\n",
        "from keras.models import Sequential # Deep learning library, used for neural networks\n",
        "from keras.layers import LSTM, Dense # Deep learning classes for recurrent and regular densely-connected layers"
      ]
    },
    {
      "cell_type": "code",
      "source": [
        "today = date.today()\n",
        "date_today = today.strftime(\"%Y-%m-%d\")\n",
        "date_start = '2022-01-01'"
      ],
      "metadata": {
        "id": "WRmLHYpYWY_E"
      },
      "execution_count": null,
      "outputs": []
    },
    {
      "cell_type": "code",
      "source": [
        "stock = input(\"Enter stock name:\")\n",
        "stockname = stock\n",
        "symbol = '^GSPC'"
      ],
      "metadata": {
        "colab": {
          "base_uri": "https://localhost:8080/"
        },
        "id": "JgEOzKQtWrka",
        "outputId": "aa9659a6-045e-4bae-df11-361209a7143a"
      },
      "execution_count": null,
      "outputs": [
        {
          "name": "stdout",
          "output_type": "stream",
          "text": [
            "Enter stock name:zomato\n"
          ]
        }
      ]
    },
    {
      "cell_type": "code",
      "source": [
        "pip install yfinance"
      ],
      "metadata": {
        "colab": {
          "base_uri": "https://localhost:8080/"
        },
        "id": "4NRYMMDBW6bd",
        "outputId": "fdf606e8-b3f4-4007-f3e8-67b60a748ed8"
      },
      "execution_count": null,
      "outputs": [
        {
          "output_type": "stream",
          "name": "stdout",
          "text": [
            "Looking in indexes: https://pypi.org/simple, https://us-python.pkg.dev/colab-wheels/public/simple/\n",
            "Requirement already satisfied: yfinance in /usr/local/lib/python3.8/dist-packages (0.2.9)\n",
            "Requirement already satisfied: numpy>=1.16.5 in /usr/local/lib/python3.8/dist-packages (from yfinance) (1.21.6)\n",
            "Requirement already satisfied: pandas>=1.3.0 in /usr/local/lib/python3.8/dist-packages (from yfinance) (1.3.5)\n",
            "Requirement already satisfied: appdirs>=1.4.4 in /usr/local/lib/python3.8/dist-packages (from yfinance) (1.4.4)\n",
            "Requirement already satisfied: requests>=2.26 in /usr/local/lib/python3.8/dist-packages (from yfinance) (2.28.2)\n",
            "Requirement already satisfied: multitasking>=0.0.7 in /usr/local/lib/python3.8/dist-packages (from yfinance) (0.0.11)\n",
            "Requirement already satisfied: frozendict>=2.3.4 in /usr/local/lib/python3.8/dist-packages (from yfinance) (2.3.4)\n",
            "Requirement already satisfied: beautifulsoup4>=4.11.1 in /usr/local/lib/python3.8/dist-packages (from yfinance) (4.11.1)\n",
            "Requirement already satisfied: lxml>=4.9.1 in /usr/local/lib/python3.8/dist-packages (from yfinance) (4.9.2)\n",
            "Requirement already satisfied: html5lib>=1.1 in /usr/local/lib/python3.8/dist-packages (from yfinance) (1.1)\n",
            "Requirement already satisfied: pytz>=2022.5 in /usr/local/lib/python3.8/dist-packages (from yfinance) (2022.7)\n",
            "Requirement already satisfied: cryptography>=3.3.2 in /usr/local/lib/python3.8/dist-packages (from yfinance) (39.0.0)\n",
            "Requirement already satisfied: soupsieve>1.2 in /usr/local/lib/python3.8/dist-packages (from beautifulsoup4>=4.11.1->yfinance) (2.3.2.post1)\n",
            "Requirement already satisfied: cffi>=1.12 in /usr/local/lib/python3.8/dist-packages (from cryptography>=3.3.2->yfinance) (1.15.1)\n",
            "Requirement already satisfied: webencodings in /usr/local/lib/python3.8/dist-packages (from html5lib>=1.1->yfinance) (0.5.1)\n",
            "Requirement already satisfied: six>=1.9 in /usr/local/lib/python3.8/dist-packages (from html5lib>=1.1->yfinance) (1.15.0)\n",
            "Requirement already satisfied: python-dateutil>=2.7.3 in /usr/local/lib/python3.8/dist-packages (from pandas>=1.3.0->yfinance) (2.8.2)\n",
            "Requirement already satisfied: urllib3<1.27,>=1.21.1 in /usr/local/lib/python3.8/dist-packages (from requests>=2.26->yfinance) (1.24.3)\n",
            "Requirement already satisfied: charset-normalizer<4,>=2 in /usr/local/lib/python3.8/dist-packages (from requests>=2.26->yfinance) (2.1.1)\n",
            "Requirement already satisfied: certifi>=2017.4.17 in /usr/local/lib/python3.8/dist-packages (from requests>=2.26->yfinance) (2022.12.7)\n",
            "Requirement already satisfied: idna<4,>=2.5 in /usr/local/lib/python3.8/dist-packages (from requests>=2.26->yfinance) (2.10)\n",
            "Requirement already satisfied: pycparser in /usr/local/lib/python3.8/dist-packages (from cffi>=1.12->cryptography>=3.3.2->yfinance) (2.21)\n"
          ]
        }
      ]
    },
    {
      "cell_type": "code",
      "source": [
        "import yfinance as yf #Alternative package if webreader does not work: pip install yfinance\n",
        "df = yf.download(symbol, start=date_start, end=date_today)"
      ],
      "metadata": {
        "colab": {
          "base_uri": "https://localhost:8080/"
        },
        "id": "2VLvY4gKWzbs",
        "outputId": "b5735e43-eed5-4a9e-c3d5-ad147ef94930"
      },
      "execution_count": null,
      "outputs": [
        {
          "output_type": "stream",
          "name": "stdout",
          "text": [
            "\r[*********************100%***********************]  1 of 1 completed\n"
          ]
        }
      ]
    },
    {
      "cell_type": "code",
      "source": [
        "print(df.shape)\n",
        "df.head(5)"
      ],
      "metadata": {
        "colab": {
          "base_uri": "https://localhost:8080/",
          "height": 255
        },
        "id": "Wiwizo0NXLS4",
        "outputId": "5fc0664b-e9d3-40f9-c720-83dfc29a90e8"
      },
      "execution_count": null,
      "outputs": [
        {
          "output_type": "stream",
          "name": "stdout",
          "text": [
            "(269, 6)\n"
          ]
        },
        {
          "output_type": "execute_result",
          "data": {
            "text/plain": [
              "                                  Open         High          Low        Close  \\\n",
              "Date                                                                            \n",
              "2022-01-03 00:00:00-05:00  4778.140137  4796.640137  4758.169922  4796.560059   \n",
              "2022-01-04 00:00:00-05:00  4804.509766  4818.620117  4774.270020  4793.540039   \n",
              "2022-01-05 00:00:00-05:00  4787.990234  4797.700195  4699.439941  4700.580078   \n",
              "2022-01-06 00:00:00-05:00  4693.390137  4725.009766  4671.259766  4696.049805   \n",
              "2022-01-07 00:00:00-05:00  4697.660156  4707.950195  4662.740234  4677.029785   \n",
              "\n",
              "                             Adj Close      Volume  \n",
              "Date                                                \n",
              "2022-01-03 00:00:00-05:00  4796.560059  3831020000  \n",
              "2022-01-04 00:00:00-05:00  4793.540039  4683170000  \n",
              "2022-01-05 00:00:00-05:00  4700.580078  4887960000  \n",
              "2022-01-06 00:00:00-05:00  4696.049805  4295280000  \n",
              "2022-01-07 00:00:00-05:00  4677.029785  4181510000  "
            ],
            "text/html": [
              "\n",
              "  <div id=\"df-77f6adb9-9bed-45b0-a84a-b40cc2fe94a0\">\n",
              "    <div class=\"colab-df-container\">\n",
              "      <div>\n",
              "<style scoped>\n",
              "    .dataframe tbody tr th:only-of-type {\n",
              "        vertical-align: middle;\n",
              "    }\n",
              "\n",
              "    .dataframe tbody tr th {\n",
              "        vertical-align: top;\n",
              "    }\n",
              "\n",
              "    .dataframe thead th {\n",
              "        text-align: right;\n",
              "    }\n",
              "</style>\n",
              "<table border=\"1\" class=\"dataframe\">\n",
              "  <thead>\n",
              "    <tr style=\"text-align: right;\">\n",
              "      <th></th>\n",
              "      <th>Open</th>\n",
              "      <th>High</th>\n",
              "      <th>Low</th>\n",
              "      <th>Close</th>\n",
              "      <th>Adj Close</th>\n",
              "      <th>Volume</th>\n",
              "    </tr>\n",
              "    <tr>\n",
              "      <th>Date</th>\n",
              "      <th></th>\n",
              "      <th></th>\n",
              "      <th></th>\n",
              "      <th></th>\n",
              "      <th></th>\n",
              "      <th></th>\n",
              "    </tr>\n",
              "  </thead>\n",
              "  <tbody>\n",
              "    <tr>\n",
              "      <th>2022-01-03 00:00:00-05:00</th>\n",
              "      <td>4778.140137</td>\n",
              "      <td>4796.640137</td>\n",
              "      <td>4758.169922</td>\n",
              "      <td>4796.560059</td>\n",
              "      <td>4796.560059</td>\n",
              "      <td>3831020000</td>\n",
              "    </tr>\n",
              "    <tr>\n",
              "      <th>2022-01-04 00:00:00-05:00</th>\n",
              "      <td>4804.509766</td>\n",
              "      <td>4818.620117</td>\n",
              "      <td>4774.270020</td>\n",
              "      <td>4793.540039</td>\n",
              "      <td>4793.540039</td>\n",
              "      <td>4683170000</td>\n",
              "    </tr>\n",
              "    <tr>\n",
              "      <th>2022-01-05 00:00:00-05:00</th>\n",
              "      <td>4787.990234</td>\n",
              "      <td>4797.700195</td>\n",
              "      <td>4699.439941</td>\n",
              "      <td>4700.580078</td>\n",
              "      <td>4700.580078</td>\n",
              "      <td>4887960000</td>\n",
              "    </tr>\n",
              "    <tr>\n",
              "      <th>2022-01-06 00:00:00-05:00</th>\n",
              "      <td>4693.390137</td>\n",
              "      <td>4725.009766</td>\n",
              "      <td>4671.259766</td>\n",
              "      <td>4696.049805</td>\n",
              "      <td>4696.049805</td>\n",
              "      <td>4295280000</td>\n",
              "    </tr>\n",
              "    <tr>\n",
              "      <th>2022-01-07 00:00:00-05:00</th>\n",
              "      <td>4697.660156</td>\n",
              "      <td>4707.950195</td>\n",
              "      <td>4662.740234</td>\n",
              "      <td>4677.029785</td>\n",
              "      <td>4677.029785</td>\n",
              "      <td>4181510000</td>\n",
              "    </tr>\n",
              "  </tbody>\n",
              "</table>\n",
              "</div>\n",
              "      <button class=\"colab-df-convert\" onclick=\"convertToInteractive('df-77f6adb9-9bed-45b0-a84a-b40cc2fe94a0')\"\n",
              "              title=\"Convert this dataframe to an interactive table.\"\n",
              "              style=\"display:none;\">\n",
              "        \n",
              "  <svg xmlns=\"http://www.w3.org/2000/svg\" height=\"24px\"viewBox=\"0 0 24 24\"\n",
              "       width=\"24px\">\n",
              "    <path d=\"M0 0h24v24H0V0z\" fill=\"none\"/>\n",
              "    <path d=\"M18.56 5.44l.94 2.06.94-2.06 2.06-.94-2.06-.94-.94-2.06-.94 2.06-2.06.94zm-11 1L8.5 8.5l.94-2.06 2.06-.94-2.06-.94L8.5 2.5l-.94 2.06-2.06.94zm10 10l.94 2.06.94-2.06 2.06-.94-2.06-.94-.94-2.06-.94 2.06-2.06.94z\"/><path d=\"M17.41 7.96l-1.37-1.37c-.4-.4-.92-.59-1.43-.59-.52 0-1.04.2-1.43.59L10.3 9.45l-7.72 7.72c-.78.78-.78 2.05 0 2.83L4 21.41c.39.39.9.59 1.41.59.51 0 1.02-.2 1.41-.59l7.78-7.78 2.81-2.81c.8-.78.8-2.07 0-2.86zM5.41 20L4 18.59l7.72-7.72 1.47 1.35L5.41 20z\"/>\n",
              "  </svg>\n",
              "      </button>\n",
              "      \n",
              "  <style>\n",
              "    .colab-df-container {\n",
              "      display:flex;\n",
              "      flex-wrap:wrap;\n",
              "      gap: 12px;\n",
              "    }\n",
              "\n",
              "    .colab-df-convert {\n",
              "      background-color: #E8F0FE;\n",
              "      border: none;\n",
              "      border-radius: 50%;\n",
              "      cursor: pointer;\n",
              "      display: none;\n",
              "      fill: #1967D2;\n",
              "      height: 32px;\n",
              "      padding: 0 0 0 0;\n",
              "      width: 32px;\n",
              "    }\n",
              "\n",
              "    .colab-df-convert:hover {\n",
              "      background-color: #E2EBFA;\n",
              "      box-shadow: 0px 1px 2px rgba(60, 64, 67, 0.3), 0px 1px 3px 1px rgba(60, 64, 67, 0.15);\n",
              "      fill: #174EA6;\n",
              "    }\n",
              "\n",
              "    [theme=dark] .colab-df-convert {\n",
              "      background-color: #3B4455;\n",
              "      fill: #D2E3FC;\n",
              "    }\n",
              "\n",
              "    [theme=dark] .colab-df-convert:hover {\n",
              "      background-color: #434B5C;\n",
              "      box-shadow: 0px 1px 3px 1px rgba(0, 0, 0, 0.15);\n",
              "      filter: drop-shadow(0px 1px 2px rgba(0, 0, 0, 0.3));\n",
              "      fill: #FFFFFF;\n",
              "    }\n",
              "  </style>\n",
              "\n",
              "      <script>\n",
              "        const buttonEl =\n",
              "          document.querySelector('#df-77f6adb9-9bed-45b0-a84a-b40cc2fe94a0 button.colab-df-convert');\n",
              "        buttonEl.style.display =\n",
              "          google.colab.kernel.accessAllowed ? 'block' : 'none';\n",
              "\n",
              "        async function convertToInteractive(key) {\n",
              "          const element = document.querySelector('#df-77f6adb9-9bed-45b0-a84a-b40cc2fe94a0');\n",
              "          const dataTable =\n",
              "            await google.colab.kernel.invokeFunction('convertToInteractive',\n",
              "                                                     [key], {});\n",
              "          if (!dataTable) return;\n",
              "\n",
              "          const docLinkHtml = 'Like what you see? Visit the ' +\n",
              "            '<a target=\"_blank\" href=https://colab.research.google.com/notebooks/data_table.ipynb>data table notebook</a>'\n",
              "            + ' to learn more about interactive tables.';\n",
              "          element.innerHTML = '';\n",
              "          dataTable['output_type'] = 'display_data';\n",
              "          await google.colab.output.renderOutput(dataTable, element);\n",
              "          const docLink = document.createElement('div');\n",
              "          docLink.innerHTML = docLinkHtml;\n",
              "          element.appendChild(docLink);\n",
              "        }\n",
              "      </script>\n",
              "    </div>\n",
              "  </div>\n",
              "  "
            ]
          },
          "metadata": {},
          "execution_count": 6
        }
      ]
    },
    {
      "cell_type": "code",
      "source": [
        "register_matplotlib_converters()\n",
        "years = mdates.YearLocator()\n",
        "fig, ax1 = plt.subplots(figsize=(16, 6))\n",
        "ax1.xaxis.set_major_locator(years)\n",
        "x = df.index\n",
        "y = df['Close']\n",
        "ax1.fill_between(x, 0, y, color='#b9e1fa')\n",
        "ax1.legend([stockname], fontsize=12)\n",
        "plt.title(stockname + ' from '+ date_start + ' to ' + date_today, fontsize=16)\n",
        "plt.plot(y, color='#039dfc', label=stockname, linewidth=1.0)\n",
        "plt.ylabel('Stocks', fontsize=12)\n",
        "plt.show()"
      ],
      "metadata": {
        "colab": {
          "base_uri": "https://localhost:8080/",
          "height": 392
        },
        "id": "9NhuZ9qZXQM4",
        "outputId": "1cd662b8-3151-47d6-a637-5d39637e4de5"
      },
      "execution_count": null,
      "outputs": [
        {
          "output_type": "display_data",
          "data": {
            "text/plain": [
              "<Figure size 1152x432 with 1 Axes>"
            ],
            "image/png": "[encoded data removed]"
          },
          "metadata": {
            "needs_background": "light"
          }
        }
      ]
    },
    {
      "cell_type": "code",
      "source": [
        "train_df = df.filter(['Close'])\n",
        "data_unscaled = train_df.values"
      ],
      "metadata": {
        "id": "bOJgoyDGXSDH"
      },
      "execution_count": null,
      "outputs": []
    },
    {
      "cell_type": "code",
      "source": [
        "train_data_length = math.ceil(len(data_unscaled) * 0.8)"
      ],
      "metadata": {
        "id": "rnGsyT_LXYzn"
      },
      "execution_count": null,
      "outputs": []
    },
    {
      "cell_type": "code",
      "source": [
        "mmscaler = MinMaxScaler(feature_range=(0, 1))\n",
        "np_data = mmscaler.fit_transform(data_unscaled)\n",
        "sequence_length = 50"
      ],
      "metadata": {
        "id": "skiqmZGFXcxH"
      },
      "execution_count": null,
      "outputs": []
    },
    {
      "cell_type": "code",
      "source": [
        "# Prediction Index\n",
        "index_Close = train_df.columns.get_loc(\"Close\")\n",
        "print(index_Close)\n",
        "# Split the training data into train and train data sets\n",
        "# As a first step, we get the number of rows to train the model on 80% of the data\n",
        "train_data_len = math.ceil(np_data.shape[0] * 0.8)\n"
      ],
      "metadata": {
        "colab": {
          "base_uri": "https://localhost:8080/"
        },
        "id": "jHbFA3-OXgtj",
        "outputId": "c3c1c2ad-99f6-4d62-a867-76f5a4494fe6"
      },
      "execution_count": null,
      "outputs": [
        {
          "output_type": "stream",
          "name": "stdout",
          "text": [
            "0\n"
          ]
        }
      ]
    },
    {
      "cell_type": "code",
      "source": [
        "# Create the training and test data\n",
        "train_data = np_data[0:train_data_len, :]\n",
        "test_data = np_data[train_data_len - sequence_length:, :]"
      ],
      "metadata": {
        "id": "tWHyr81_XlGX"
      },
      "execution_count": null,
      "outputs": []
    },
    {
      "cell_type": "code",
      "source": [
        "def partition_dataset(sequence_length, train_df):\n",
        "    x, y = [], []\n",
        "    data_len = train_df.shape[0]\n",
        "    for i in range(sequence_length, data_len):\n",
        "        x.append(train_df[i - sequence_length:i, :]) # contains sequence_length values 0-sequence_length * columsn\n",
        "        y.append(train_df[\n",
        "                     i, index_Close]) # contains the prediction values for validation (3rd column = Close), for single-step prediction\n",
        "\n",
        "    # Convert the x and y to numpy arrays\n",
        "    x = np.array(x)\n",
        "    y = np.array(y)\n",
        "    return x, y"
      ],
      "metadata": {
        "id": "QKS6Be6VXqy4"
      },
      "execution_count": null,
      "outputs": []
    },
    {
      "cell_type": "code",
      "source": [
        "# Generate training data and test data\n",
        "x_train, y_train = partition_dataset(sequence_length, train_data)\n",
        "x_test, y_test = partition_dataset(sequence_length, test_data)"
      ],
      "metadata": {
        "id": "gQ7jCAFHXx_j"
      },
      "execution_count": null,
      "outputs": []
    },
    {
      "cell_type": "code",
      "source": [
        "print(x_train.shape, y_train.shape)\n",
        "print(x_test.shape, y_test.shape)\n"
      ],
      "metadata": {
        "colab": {
          "base_uri": "https://localhost:8080/"
        },
        "id": "aI_ZD3svXzLc",
        "outputId": "9cce5351-b051-4369-bfcd-03390145612f"
      },
      "execution_count": null,
      "outputs": [
        {
          "output_type": "stream",
          "name": "stdout",
          "text": [
            "(166, 50, 1) (166,)\n",
            "(53, 50, 1) (53,)\n"
          ]
        }
      ]
    },
    {
      "cell_type": "code",
      "source": [
        "print(x_test[1][sequence_length - 1][index_Close])\n",
        "print(y_test[0])\n"
      ],
      "metadata": {
        "colab": {
          "base_uri": "https://localhost:8080/"
        },
        "id": "PaRqpAhHYTY1",
        "outputId": "9d85ab8f-c0c6-415b-9d84-040d104d32ae"
      },
      "execution_count": null,
      "outputs": [
        {
          "output_type": "stream",
          "name": "stdout",
          "text": [
            "0.31105432320459947\n",
            "0.31105432320459947\n"
          ]
        }
      ]
    },
    {
      "cell_type": "code",
      "source": [
        "model = Sequential()\n",
        "\n",
        "neurons = sequence_length"
      ],
      "metadata": {
        "id": "2bYVpHSVYV-c"
      },
      "execution_count": null,
      "outputs": []
    },
    {
      "cell_type": "code",
      "source": [
        "model.add(LSTM(neurons, return_sequences=True, input_shape=(x_train.shape[1], 1)))\n",
        "model.add(LSTM(neurons, return_sequences=False))\n",
        "model.add(Dense(8, activation='relu'))\n",
        "model.add(Dense(1))"
      ],
      "metadata": {
        "id": "nB4gLtlIYZBD"
      },
      "execution_count": null,
      "outputs": []
    },
    {
      "cell_type": "code",
      "source": [
        "model.compile(optimizer='adam', loss='mean_squared_error')\n",
        "\n",
        "model.fit(x_train, y_train, batch_size=16, epochs=8)\n",
        "\n",
        "\n",
        "y_pred_scaled = model.predict(x_test)\n",
        "y_pred = mmscaler.inverse_transform(y_pred_scaled)\n",
        "y_test_unscaled = mmscaler.inverse_transform(y_test.reshape(-1, 1))"
      ],
      "metadata": {
        "colab": {
          "base_uri": "https://localhost:8080/"
        },
        "id": "HjYojdjNYgLo",
        "outputId": "9d515517-2aa2-4f25-aed4-30c9240cdcd3"
      },
      "execution_count": null,
      "outputs": [
        {
          "output_type": "stream",
          "name": "stdout",
          "text": [
            "Epoch 1/8\n",
            "11/11 [==============================] - 4s 25ms/step - loss: 0.1694\n",
            "Epoch 2/8\n",
            "11/11 [==============================] - 0s 26ms/step - loss: 0.0693\n",
            "Epoch 3/8\n",
            "11/11 [==============================] - 0s 24ms/step - loss: 0.0362\n",
            "Epoch 4/8\n",
            "11/11 [==============================] - 0s 24ms/step - loss: 0.0255\n",
            "Epoch 5/8\n",
            "11/11 [==============================] - 0s 24ms/step - loss: 0.0210\n",
            "Epoch 6/8\n",
            "11/11 [==============================] - 0s 24ms/step - loss: 0.0174\n",
            "Epoch 7/8\n",
            "11/11 [==============================] - 0s 25ms/step - loss: 0.0140\n",
            "Epoch 8/8\n",
            "11/11 [==============================] - 0s 23ms/step - loss: 0.0157\n",
            "2/2 [==============================] - 1s 11ms/step\n"
          ]
        }
      ]
    },
    {
      "cell_type": "code",
      "source": [
        "# Mean Absolute Error (MAE)\n",
        "MAE = mean_absolute_error(y_test_unscaled, y_pred)\n",
        "print(f'Median Absolute Error (MAE): {np.round(MAE, 2)}')"
      ],
      "metadata": {
        "colab": {
          "base_uri": "https://localhost:8080/"
        },
        "id": "lrlaA5b6Ylgu",
        "outputId": "954ffd69-a65d-4e41-d9ff-9c4c865dc6b6"
      },
      "execution_count": null,
      "outputs": [
        {
          "output_type": "stream",
          "name": "stdout",
          "text": [
            "Median Absolute Error (MAE): 80.73\n"
          ]
        }
      ]
    },
    {
      "cell_type": "code",
      "source": [],
      "metadata": {
        "id": "A9qKgtpQY23w"
      },
      "execution_count": null,
      "outputs": []
    }
  ]
}